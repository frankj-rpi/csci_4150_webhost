{
 "cells": [
  {
   "cell_type": "markdown",
   "id": "fada2f76",
   "metadata": {},
   "source": [
    "# Homework 1: Optimization for the Traveling Salesman Problem\n",
    "\n",
    "In this assignment, you will implement three optimization algorithms to solve a version of the Traveling Salesman Problem (TSP):\n",
    "\n",
    "- Problem 1: **Hill-Climbing Search**\n",
    "- Problem 2: **Simulated Annealing**\n",
    "- Problem 3: **Genetic Algorithm**\n",
    "\n",
    "This version of the TSP consists of a fully connected graph of cities, such that every city is reachable from every other city, though the layout of the cities (and thus, their distances between one another) is randomized. A **solution** to the TSP is a path that visits each city exactly once, and the goal is to find the solution with the shortest path length. A \"path\" in this case is a list of cities -- so, the path `['Albany', 'Boston', 'Charleston']` visits each of those cities in that order. The instructor-provided code sets up the problem, and computes the length of a path for you -- your code is just focused on generating possible solutions (i.e. permutations of the list of cities). \n",
    "\n",
    "However, your code is only allowed to test a **limited number of solutions** -- that is, you can't just try as many solutions as you like. This limit on the number of solutions you are allowed to test is provided to your code, however, so your code can use this to narrow in on a desired solution when you start approaching that limit. "
   ]
  },
  {
   "cell_type": "markdown",
   "id": "6f460857-9913-4d6c-b4b7-9e951aea8c01",
   "metadata": {},
   "source": [
    "## Specifications\n",
    "\n",
    "#### Required packages\n",
    "- matplotlib\n",
    "\n",
    "#### The \"run_tsp\" function\n",
    "\n",
    "For all three problems, you are provided with the function `run_tsp`. This function sets up an instance of the traveling salesman problem, and then runs a function you provide it (`solve`) to try and find the best solution. The function signature of `run_tsp` is as follows: \n",
    "\n",
    "`run_tsp(solve, city_count, max_steps, seed) -> list(str), float, int`\n",
    "- `solve` (function): This is the function you provide that solves the TSP problem. An example is provided further below.\n",
    "- `city_count` (int): The number of cities created\n",
    "- `max_steps` (int, optional): The maximum number of times your function is allowed to test a possible solution. If this value isn't provided (or is not a positive integer), then no limit is set.\n",
    "- `seed` (int, optional): A random seed that is used to generate the problem. If no seed is provided, a new seed is randomly created.\n",
    "- `plot` (boolean, optional): If `False`, it will not plot the final solution after the solver completes. By default, this value is `True`\n",
    "- **Return value**: `final_path` (list of strings), `final_length` (float), `final_steps` (int)\n",
    "\n",
    "#### Your \"solve\" function\n",
    "\n",
    "Your task is to implement the `solve` function, and test it with the provided `run_tsp` function. The signature of the `solve` function is as follows:\n",
    "\n",
    "`solve(cities, get_path_length, plot_path, max_steps) -> list(str)`\n",
    "- `cities` (list of strings): A list of city names. Note that city coordinates, etc. are not provided.\n",
    "- `get_path_length` (function `(list(str))->(int)`): Given a list of city names, this function returns the total distance of the path between them (in the order in which the city names are listed). This function can only be called a maximum of `max_steps` times. \n",
    "- `plot_path` (function `(list(str))->()`): Given a list of city names, this function visualizes the path connecting each of these cities. \n",
    "- `max_steps` (int or `Inf`): The maximum number of times `get_path_length` can be called. If there is no upper limit, `max_steps` is set to infinity.\n",
    "- **Return value**: `final_path` (list of strings): The final, best path between cities decided upon by your program. Note that it should visit every city exactly once! \n",
    "\n",
    "The code shared by all three problems is provided below."
   ]
  },
  {
   "cell_type": "code",
   "execution_count": 251,
   "id": "e6678202",
   "metadata": {},
   "outputs": [],
   "source": [
    "# Traveling Salesman Problem -- Setup code\n",
    "\n",
    "import math\n",
    "import random\n",
    "import matplotlib.pyplot as plt\n",
    "\n",
    "# List of city names\n",
    "city_names = ['Albany','Boston','Charleston','Denver','El Paso','Fairfax','Grand Rapids','Houston','Indianapolis','Jersey City','Knoxville','Los Angeles','Marblehead','New York','Olympus','Philadelphia','Quincy','Raleigh','Salem','Troy','Utica','Voorheesville','Worcester','Xerxes','Yonkers','Zanesville']\n",
    "\n",
    "\n",
    "# The run_tsp function. Use this to generate a TSP instance, \n",
    "# and run your code to try and find the best solution within\n",
    "# the total number of steps (number of times a solution is \n",
    "# allowed to be tested).\n",
    "def run_tsp(solve, city_count, max_steps = math.inf, seed = None, plot = True):\n",
    "\n",
    "    if(seed): random.seed(seed)\n",
    "    if (not max_steps) or not (max_steps > 0): max_steps = math.inf\n",
    "    \n",
    "    # Generate the cities\n",
    "    city_coords = {}\n",
    "    for i in range(city_count):\n",
    "        city = city_names[i % len(city_names)]\n",
    "        if(i >= len(city_names)): city = \"\".join([\"New \"]*math.floor(i / len(city_names))) + city\n",
    "        \n",
    "        city_coords[city] = (round(random.random(),3)*1000, round(random.random(),3)*1000);\n",
    "\n",
    "    # Step counter variable initially at zero\n",
    "    step_counter = 0\n",
    "        \n",
    "    # Define local functions\n",
    "    \n",
    "    def distance(p1, p2):\n",
    "        return math.hypot(p1[0] - p2[0], p1[1] - p2[1])\n",
    "\n",
    "    def get_path_length(path):\n",
    "        nonlocal step_counter\n",
    "        step_counter += 1\n",
    "\n",
    "        if (step_counter >= max_steps):\n",
    "            raise ValueError(\"Error: maximum number of solutions tested\")\n",
    "        \n",
    "        if set(path) != set(city_coords.keys()) or len(path) != len(city_coords):\n",
    "            raise ValueError(\"Invalid path: must include each city exactly once.\")\n",
    "    \n",
    "        total = 0.0\n",
    "        for i in range(len(path)-1):\n",
    "            a, b = path[i], path[(i + 1) % len(path)]\n",
    "            total += distance(city_coords[a], city_coords[b])\n",
    "    \n",
    "        return total\n",
    "    \n",
    "    def plot_path(path):\n",
    "        x = [city_coords[city][0] for city in path]\n",
    "        y = [city_coords[city][1] for city in path]\n",
    "        plt.figure(figsize=(6, 6))\n",
    "        plt.plot(x, y, 'o-')\n",
    "        for city in path:\n",
    "            plt.text(city_coords[city][0], city_coords[city][1], city)\n",
    "        plt.title(f\"Path length: {get_path_length(path):.2f}\")\n",
    "        plt.show()\n",
    "\n",
    "    # City names provided to solver\n",
    "    cities = list(city_coords.keys())\n",
    "    \n",
    "    # Run the provided solver\n",
    "    final_path = solve(cities, get_path_length, plot_path, max_steps)\n",
    "\n",
    "    # Output final solution\n",
    "    final_steps = step_counter\n",
    "    step_counter = 0\n",
    "    final_length = get_path_length(final_path)\n",
    "\n",
    "    print(f\"\"\"Number of steps: {final_steps} / {max_steps}\n",
    "Final path length: {final_length}\n",
    "Final path: {final_path}\n",
    "\"\"\")\n",
    "    \n",
    "    if(plot): plot_path(final_path)\n",
    "\n",
    "    return final_path, final_length, final_steps"
   ]
  },
  {
   "cell_type": "markdown",
   "id": "ace335f3-c55e-45f9-9edd-6f64be8342cb",
   "metadata": {},
   "source": [
    "## Example solve functions"
   ]
  },
  {
   "cell_type": "markdown",
   "id": "febe8f1c-b3d9-4af0-81ed-1ea0422d1677",
   "metadata": {},
   "source": [
    "### Brute-force solver\n",
    "\n",
    "This solver just runs through every possible permutation of paths, checking every one, until it has exhausted all possible options or runs out of allowed steps. If allowed to finish, it *will* find the best possible solution -- though of course, the runtime increases exponentially with the number of cities."
   ]
  },
  {
   "cell_type": "code",
   "execution_count": 198,
   "id": "6d6c61a8-dca6-46ce-80a2-f5a0f48a1ad0",
   "metadata": {},
   "outputs": [],
   "source": [
    "import itertools\n",
    "\n",
    "def brute_force_solve(cities, get_path_length, plot_path, max_steps):\n",
    "    best_path = None\n",
    "    best_cost = float('inf')\n",
    "\n",
    "    # Try all permutations of the city list\n",
    "    for perm in itertools.permutations(cities):\n",
    "        try:\n",
    "            cost = get_path_length(list(perm))\n",
    "            if cost < best_cost:\n",
    "                best_path = list(perm)\n",
    "                best_cost = cost\n",
    "        except ValueError:\n",
    "            break  # Stop if max_steps exceeded\n",
    "\n",
    "    return best_path"
   ]
  },
  {
   "cell_type": "markdown",
   "id": "85419262-497f-4708-9b1b-2d2292bd4269",
   "metadata": {},
   "source": [
    "#### Results\n",
    "\n",
    "(Click the arrow to the left of this cell to hide/show the cells below)"
   ]
  },
  {
   "cell_type": "code",
   "execution_count": 221,
   "id": "b35680f0-304f-4e1f-8975-ddb06389c2c0",
   "metadata": {},
   "outputs": [
    {
     "name": "stdout",
     "output_type": "stream",
     "text": [
      "Number of steps: 720 / 1000\n",
      "Final path length: 1552.5174119699395\n",
      "Final path: ['Charleston', 'Fairfax', 'Boston', 'El Paso', 'Albany', 'Denver']\n"
     ]
    },
    {
     "data": {
      "image/png": "[encoded data removed]",
      "text/plain": [
       "<Figure size 600x600 with 1 Axes>"
      ]
     },
     "metadata": {},
     "output_type": "display_data"
    }
   ],
   "source": [
    "# Small sample problem: 6 cities\n",
    "run_tsp(brute_force_solve, city_count=6, max_steps=1000, seed=42, plot=True);"
   ]
  },
  {
   "cell_type": "code",
   "execution_count": 203,
   "id": "aaceecd2-1e5e-4542-9d0c-a3c03b9e7d23",
   "metadata": {},
   "outputs": [
    {
     "name": "stdout",
     "output_type": "stream",
     "text": [
      "Number of steps: 3628800 / 10000000\n",
      "Final path length: 2030.8981972383071\n",
      "Final path: ['Charleston', 'Houston', 'Indianapolis', 'Fairfax', 'Grand Rapids', 'Boston', 'El Paso', 'Albany', 'Jersey City', 'Denver']\n"
     ]
    }
   ],
   "source": [
    "# Medium sample problem: 10 cities\n",
    "run_tsp(brute_force_solve, city_count=10, max_steps=10000000, seed=42, plot=False);"
   ]
  },
  {
   "cell_type": "code",
   "execution_count": 204,
   "id": "ccef7aef-588a-4ce2-aa5f-ca397fb502ce",
   "metadata": {},
   "outputs": [
    {
     "ename": "KeyboardInterrupt",
     "evalue": "",
     "output_type": "error",
     "traceback": [
      "\u001b[0;31m---------------------------------------------------------------------------\u001b[0m",
      "\u001b[0;31mKeyboardInterrupt\u001b[0m                         Traceback (most recent call last)",
      "Cell \u001b[0;32mIn[204], line 3\u001b[0m\n\u001b[1;32m      1\u001b[0m \u001b[38;5;66;03m# Large sample problem: 20 cities\u001b[39;00m\n\u001b[1;32m      2\u001b[0m \u001b[38;5;66;03m# (cannot be solved within the provided step limit)\u001b[39;00m\n\u001b[0;32m----> 3\u001b[0m \u001b[43mrun_tsp\u001b[49m\u001b[43m(\u001b[49m\u001b[43mbrute_force_solve\u001b[49m\u001b[43m,\u001b[49m\u001b[43m \u001b[49m\u001b[43mcity_count\u001b[49m\u001b[38;5;241;43m=\u001b[39;49m\u001b[38;5;241;43m20\u001b[39;49m\u001b[43m,\u001b[49m\u001b[43m \u001b[49m\u001b[43mmax_steps\u001b[49m\u001b[38;5;241;43m=\u001b[39;49m\u001b[38;5;241;43m10000000\u001b[39;49m\u001b[43m,\u001b[49m\u001b[43m \u001b[49m\u001b[43mseed\u001b[49m\u001b[38;5;241;43m=\u001b[39;49m\u001b[38;5;241;43m42\u001b[39;49m\u001b[43m,\u001b[49m\u001b[43m \u001b[49m\u001b[43mplot\u001b[49m\u001b[38;5;241;43m=\u001b[39;49m\u001b[38;5;28;43;01mFalse\u001b[39;49;00m\u001b[43m)\u001b[49m;\n",
      "Cell \u001b[0;32mIn[197], line 67\u001b[0m, in \u001b[0;36mrun_tsp\u001b[0;34m(solve, city_count, max_steps, seed, plot)\u001b[0m\n\u001b[1;32m     64\u001b[0m cities \u001b[38;5;241m=\u001b[39m \u001b[38;5;28mlist\u001b[39m(city_coords\u001b[38;5;241m.\u001b[39mkeys())\n\u001b[1;32m     66\u001b[0m \u001b[38;5;66;03m# Run the provided solver\u001b[39;00m\n\u001b[0;32m---> 67\u001b[0m final_path \u001b[38;5;241m=\u001b[39m \u001b[43msolve\u001b[49m\u001b[43m(\u001b[49m\u001b[43mcities\u001b[49m\u001b[43m,\u001b[49m\u001b[43m \u001b[49m\u001b[43mget_path_length\u001b[49m\u001b[43m,\u001b[49m\u001b[43m \u001b[49m\u001b[43mplot_path\u001b[49m\u001b[43m,\u001b[49m\u001b[43m \u001b[49m\u001b[43mmax_steps\u001b[49m\u001b[43m)\u001b[49m\n\u001b[1;32m     69\u001b[0m \u001b[38;5;66;03m# Output final solution\u001b[39;00m\n\u001b[1;32m     70\u001b[0m final_steps \u001b[38;5;241m=\u001b[39m step_counter\n",
      "Cell \u001b[0;32mIn[198], line 10\u001b[0m, in \u001b[0;36mbrute_force_solve\u001b[0;34m(cities, get_path_length, plot_path, max_steps)\u001b[0m\n\u001b[1;32m      8\u001b[0m \u001b[38;5;28;01mfor\u001b[39;00m perm \u001b[38;5;129;01min\u001b[39;00m itertools\u001b[38;5;241m.\u001b[39mpermutations(cities):\n\u001b[1;32m      9\u001b[0m     \u001b[38;5;28;01mtry\u001b[39;00m:\n\u001b[0;32m---> 10\u001b[0m         cost \u001b[38;5;241m=\u001b[39m get_path_length(\u001b[38;5;28;43mlist\u001b[39;49m\u001b[43m(\u001b[49m\u001b[43mperm\u001b[49m\u001b[43m)\u001b[49m)\n\u001b[1;32m     11\u001b[0m         \u001b[38;5;28;01mif\u001b[39;00m cost \u001b[38;5;241m<\u001b[39m best_cost:\n\u001b[1;32m     12\u001b[0m             best_path \u001b[38;5;241m=\u001b[39m \u001b[38;5;28mlist\u001b[39m(perm)\n",
      "\u001b[0;31mKeyboardInterrupt\u001b[0m: "
     ]
    }
   ],
   "source": [
    "# Large sample problem: 20 cities\n",
    "# (cannot be solved within the provided step limit)\n",
    "run_tsp(brute_force_solve, city_count=20, max_steps=10000000, seed=42, plot=False);"
   ]
  },
  {
   "cell_type": "markdown",
   "id": "0083eebf-bc6a-4be3-96eb-6c4d3a6c47e8",
   "metadata": {
    "jp-MarkdownHeadingCollapsed": true
   },
   "source": [
    "### Random permutation solver\n",
    "\n",
    "This solver starts from a random path, and then repeatedly swaps two random cities. It keeps track of the best path and returns that at the end."
   ]
  },
  {
   "cell_type": "code",
   "execution_count": 167,
   "id": "1fc84f91-d0fe-4d56-bb7c-8076599ba779",
   "metadata": {},
   "outputs": [],
   "source": [
    "# Helper function to swap random cities\n",
    "# Feel free to use in your own code\n",
    "\n",
    "import datetime\n",
    "\n",
    "def mutate(path, seed = None):\n",
    "    \"\"\"Swaps two random cities to generate a neighbor.\"\"\"\n",
    "\n",
    "    if seed is None: random.seed()\n",
    "    else: random.seed(seed)\n",
    "    \n",
    "    a, b = random.sample(range(len(path)), 2)\n",
    "    path[a], path[b] = path[b], path[a]\n",
    "    return path"
   ]
  },
  {
   "cell_type": "code",
   "execution_count": 168,
   "id": "a531be90-1272-4587-b5b6-21b783b7b28b",
   "metadata": {},
   "outputs": [],
   "source": [
    "def random_solve(cities, get_path_length, plot_path, max_steps):\n",
    "\n",
    "    # Start with a random tour\n",
    "    current = cities[:]\n",
    "    random.shuffle(current)\n",
    "\n",
    "    best_path = current\n",
    "    best_cost = get_path_length(current)\n",
    "\n",
    "    # Repeatedly attempt random permutations of the current path\n",
    "    while True:\n",
    "        current = mutate(current[:])\n",
    "        try:\n",
    "            current_cost = get_path_length(current)\n",
    "        except ValueError:\n",
    "            break  # Max steps reached\n",
    "\n",
    "        if current_cost < best_cost:\n",
    "            best_path = current\n",
    "            best_cost = current_cost\n",
    "\n",
    "    return best_path"
   ]
  },
  {
   "cell_type": "markdown",
   "id": "c4b90c90-42d8-4853-ae25-8ee05ad11999",
   "metadata": {},
   "source": [
    "#### Results"
   ]
  },
  {
   "cell_type": "code",
   "execution_count": 175,
   "id": "90c5cbef-b489-4a46-a473-b6e2702a7181",
   "metadata": {},
   "outputs": [
    {
     "name": "stdout",
     "output_type": "stream",
     "text": [
      "Number of steps: 10000 / 10000\n",
      "Final path length: 2596.916635495615\n",
      "Final path: ['Charleston', 'Denver', 'Jersey City', 'Albany', 'El Paso', 'Grand Rapids', 'Boston', 'Fairfax', 'Indianapolis', 'Houston']\n"
     ]
    },
    {
     "data": {
      "image/png": "[encoded data removed]",
      "text/plain": [
       "<Figure size 600x600 with 1 Axes>"
      ]
     },
     "metadata": {},
     "output_type": "display_data"
    }
   ],
   "source": [
    "run_tsp(random_solve, city_count=10, max_steps=10000, seed=42);\n"
   ]
  },
  {
   "cell_type": "markdown",
   "id": "83054444-ec47-4b4c-88df-c373f02d4ee4",
   "metadata": {},
   "source": [
    "## Problem 1: Local hill climbing"
   ]
  },
  {
   "cell_type": "markdown",
   "id": "359b1513-fcb4-47d8-b09f-229af22cc815",
   "metadata": {},
   "source": [
    "### 1.1: Implementation \n",
    "\n",
    "In this problem, you need to write `hill_climbing_solve`: a solver that implements the local hill climbing search optimization algorithm. You may find it helpful to use the `mutate` function from the random permutation solver above.\n",
    "\n",
    "#### Local Hill Climbing Algorithm\n",
    "Hill climbing is a greedy local search algorithm that starts with a candidate solution and makes small changes to it, always moving to a neighbor if it improves the solution. In this context:\n",
    "\n",
    "- A candidate solution is a specific ordering (permutation) of the cities.\n",
    "- A neighbor is another tour created by slightly modifying the current one, such as by swapping two cities (mutation)\n",
    "- The \"hill\" is the quality of the solution, measured by the total tour length (shorter = better).\n",
    "- The algorithm continues climbing until it reaches a point where no local neighbor is better (a local minimum).\n",
    "\n",
    "#### Your task\n",
    "\n",
    "1. Start from a random path through the cities.\n",
    "2. Generate a \"neighbor solution\" of that path, i.e., swapping two cities with the `mutate` function above.\n",
    "3. Evaluate the neighbor using the provided `get_path_length` function -- if the neighbor is better, move to it.\n",
    "4. Repeat until no better neighbor can be found, or until you run out of steps."
   ]
  },
  {
   "cell_type": "code",
   "execution_count": 184,
   "id": "677181d1-91eb-4125-98d0-7046e98c5107",
   "metadata": {},
   "outputs": [],
   "source": [
    "def hill_climbing_solve(cities, get_path_length, plot_path, max_steps):\n",
    "    # Replace the code below with your implementation\n",
    "    best_path = cities\n",
    "    return best_path"
   ]
  },
  {
   "cell_type": "code",
   "execution_count": 185,
   "id": "5952dd19-65ea-43bf-8764-7c5dc1943fcf",
   "metadata": {},
   "outputs": [],
   "source": [
    "## INSTRUCTOR SOLUTION BELOW (NOT PROVIDED TO STUDENTS)\n",
    "\n",
    "def hill_climbing_solve(cities, get_path_length, plot_path, max_steps):\n",
    "\n",
    "    def mutate(path):\n",
    "        \"\"\"Swaps two random cities to generate a neighbor.\"\"\"\n",
    "        a, b = random.sample(range(len(path)), 2)\n",
    "        path[a], path[b] = path[b], path[a]\n",
    "        return path\n",
    "\n",
    "    # Start with a random tour\n",
    "    current = cities[:]\n",
    "    random.shuffle(current)\n",
    "    current_cost = get_path_length(current)\n",
    "\n",
    "    while True:\n",
    "        neighbor = mutate(current[:])\n",
    "        try:\n",
    "            neighbor_cost = get_path_length(neighbor)\n",
    "        except ValueError:\n",
    "            break  # Max steps reached\n",
    "\n",
    "        if neighbor_cost < current_cost:\n",
    "            current = neighbor\n",
    "            current_cost = neighbor_cost\n",
    "        else:\n",
    "            # No improvement; we can decide whether to keep trying\n",
    "            continue  # Optional: Add a max plateau threshold\n",
    "\n",
    "    return current"
   ]
  },
  {
   "cell_type": "code",
   "execution_count": 252,
   "id": "8f7f3813-ea32-4d7d-a412-82b753eaf1e1",
   "metadata": {},
   "outputs": [
    {
     "name": "stdout",
     "output_type": "stream",
     "text": [
      "Most optimal solution:\n",
      "Number of steps: 24 / 100\n",
      "Final path length: 1285.1284188748093\n",
      "Final path: ['Boston', 'Albany', 'Denver', 'Charleston']\n",
      "\n",
      "Hill-climbing solve:\n",
      "Number of steps: 50 / 50\n",
      "Final path length: 1285.1284188748093\n",
      "Final path: ['Boston', 'Albany', 'Denver', 'Charleston']\n",
      "\n",
      "Number of steps: 50 / 50\n",
      "Final path length: 1920.1860820946576\n",
      "Final path: ['Boston', 'Fairfax', 'Charleston', 'Denver', 'Albany', 'El Paso']\n",
      "\n",
      "Number of steps: 50 / 50\n",
      "Final path length: 2397.500173066743\n",
      "Final path: ['El Paso', 'Albany', 'Jersey City', 'Denver', 'Houston', 'Charleston', 'Indianapolis', 'Fairfax', 'Grand Rapids', 'Boston']\n",
      "\n"
     ]
    }
   ],
   "source": [
    "# 1.1.1: (1pt) Your implementation will be tested on Submitty with 4 cities and 50 steps; it should find the most optimal solution\n",
    "print(\"Most optimal solution:\")\n",
    "run_tsp(brute_force_solve, city_count=4, max_steps=100, seed=42, plot=False);\n",
    "print(\"Hill-climbing solve:\")\n",
    "run_tsp(hill_climbing_solve, city_count=4, max_steps=50, seed=42, plot=False);\n",
    "\n",
    "# 1.1.2: (1pt) Your implementation will be tested on Submitty with 6 cities and 50 steps; it should find a solution with path length < 2000 with seed 42.\n",
    "run_tsp(hill_climbing_solve, city_count=6, max_steps=50, seed=42, plot=False);\n",
    "\n",
    "# 1.1.3: (1pt) Your implementation will be tested on Submitty with 12 cities and 50 steps; it should find a solution with path length < 2500 with seed 42.\n",
    "run_tsp(hill_climbing_solve, city_count=10, max_steps=50, seed=42, plot=False);\n"
   ]
  },
  {
   "cell_type": "markdown",
   "id": "2290528c-835a-44cc-8ffc-5058e1fa1c42",
   "metadata": {},
   "source": [
    "### 1.2: Results and analysis\n",
    "\n",
    "Try running your solver with a few different city counts: you can try 6, 12, and 20, just as with the example solutions above. Try experimenting with different seeds as well."
   ]
  },
  {
   "cell_type": "code",
   "execution_count": null,
   "id": "25fcb9e7-7c47-41c9-a7a6-5258614cf115",
   "metadata": {},
   "outputs": [],
   "source": []
  },
  {
   "cell_type": "markdown",
   "id": "1b9048fa-a450-4f0e-a4e1-d416ac7e47a8",
   "metadata": {},
   "source": [
    "Based on your results, answer the following two questions in a couple of brief sentences each: \n",
    "\n",
    "1.2.1. **(2 pts)** What kind of results are you getting for different city counts? How do your results compare to the paths found by the example solvers above -- with what city counts is your solver able to find an optimal or near-optimal solution, and at what point are there too many cities for it to find a good solution?"
   ]
  },
  {
   "cell_type": "markdown",
   "id": "c22cd8d5-7d27-4994-9592-b80f709baa14",
   "metadata": {},
   "source": [
    "*<1.2.1 answer here>*"
   ]
  },
  {
   "cell_type": "markdown",
   "id": "8d21e131-4662-4734-ab06-2c2ea47b0d3b",
   "metadata": {},
   "source": [
    "1.2. **(2 pts)** What do you think is causing this algorithm to run into trouble -- and what kinds of modifications could you make to it to improve it?"
   ]
  },
  {
   "cell_type": "markdown",
   "id": "6df41482-acc2-4636-923d-93e2da370808",
   "metadata": {},
   "source": [
    "*<1.2.2 answer here>*"
   ]
  },
  {
   "cell_type": "markdown",
   "id": "ceec183b-45c6-48b9-bcda-7d5eade1f586",
   "metadata": {},
   "source": [
    "## Problem 2: Simulated annealing"
   ]
  },
  {
   "cell_type": "code",
   "execution_count": 99,
   "id": "085763da-46b9-4d69-b3df-baa54bb5530a",
   "metadata": {},
   "outputs": [],
   "source": [
    "## INSTRUCTOR SOLUTION BELOW (NOT PROVIDED TO STUDENTS)\n",
    "\n",
    "def simulated_annealing_solver(cities, get_path_length, plot_path, max_steps):\n",
    "    import math\n",
    "    import copy\n",
    "\n",
    "    def mutate(path):\n",
    "        \"\"\"Swaps two cities to create a neighbor.\"\"\"\n",
    "        a, b = random.sample(range(len(path)), 2)\n",
    "        path[a], path[b] = path[b], path[a]\n",
    "        return path\n",
    "\n",
    "    # Initial solution\n",
    "    current = cities[:]\n",
    "    random.shuffle(current)\n",
    "    current_cost = get_path_length(current)\n",
    "    best = current[:]\n",
    "    best_cost = current_cost\n",
    "\n",
    "    # Temperature parameters\n",
    "    T0 = 1000\n",
    "    alpha = 0.995\n",
    "    T = T0\n",
    "\n",
    "    steps = 0\n",
    "    while True:\n",
    "        neighbor = mutate(current[:])\n",
    "        try:\n",
    "            neighbor_cost = get_path_length(neighbor)\n",
    "        except ValueError:\n",
    "            break  # Max steps reached\n",
    "\n",
    "        delta = neighbor_cost - current_cost\n",
    "\n",
    "        # Accept new path if it's better, or with some probability if worse\n",
    "        if delta < 0 or random.random() < math.exp(-delta / T):\n",
    "            current = neighbor\n",
    "            current_cost = neighbor_cost\n",
    "\n",
    "            if current_cost < best_cost:\n",
    "                best = current[:]\n",
    "                best_cost = current_cost\n",
    "\n",
    "        T *= alpha  # Cool down\n",
    "\n",
    "        steps += 1\n",
    "        if T < 1e-3:\n",
    "            break\n",
    "\n",
    "    return best\n"
   ]
  },
  {
   "cell_type": "code",
   "execution_count": 255,
   "id": "c7e29300-ab5a-44bd-8e8c-237725b1311f",
   "metadata": {},
   "outputs": [
    {
     "name": "stdout",
     "output_type": "stream",
     "text": [
      "Number of steps: 2758 / 3000\n",
      "Final path length: 2360.7134607509965\n",
      "Final path: ['Grand Rapids', 'Boston', 'Los Angeles', 'El Paso', 'Albany', 'Jersey City', 'Denver', 'Knoxville', 'Charleston', 'Houston', 'Indianapolis', 'Fairfax']\n",
      "\n"
     ]
    }
   ],
   "source": [
    "run_tsp(simulated_annealing_solver, city_count=12, max_steps=3000, seed=42, plot=False);\n"
   ]
  },
  {
   "cell_type": "markdown",
   "id": "88e1b0a4-12bc-4921-b22a-20b304e1141a",
   "metadata": {},
   "source": [
    "## Problem 3: Genetic algorithm"
   ]
  },
  {
   "cell_type": "code",
   "execution_count": 253,
   "id": "d857997a-5c8a-429a-a738-20e3066df4fb",
   "metadata": {},
   "outputs": [],
   "source": [
    "## INSTRUCTOR SOLUTION BELOW (not provided to students)\n",
    "\n",
    "def genetic_algorithm_solver(cities, get_path_length, plot_path, max_steps):\n",
    "    import random\n",
    "\n",
    "    def mutate(path):\n",
    "        a, b = random.sample(range(len(path)), 2)\n",
    "        path[a], path[b] = path[b], path[a]\n",
    "        return path\n",
    "\n",
    "    def crossover(parent1, parent2):\n",
    "        size = len(parent1)\n",
    "        a, b = sorted(random.sample(range(size), 2))\n",
    "        hole = [city for city in parent2 if city not in parent1[a:b]]\n",
    "        return hole[:a] + parent1[a:b] + hole[a:]\n",
    "\n",
    "    def tournament_selection(pop, fitnesses, k=3):\n",
    "        contenders = random.sample(list(zip(pop, fitnesses)), k)\n",
    "        return min(contenders, key=lambda x: x[1])[0]\n",
    "\n",
    "    population_size = 50\n",
    "    mutation_rate = 0.5\n",
    "    generations = max_steps // population_size\n",
    "\n",
    "    population = []\n",
    "    fitnesses = []\n",
    "    best = None\n",
    "    best_cost = float('inf')\n",
    "\n",
    "    # === Initialization ===\n",
    "    for _ in range(population_size):\n",
    "        individual = cities[:]\n",
    "        random.shuffle(individual)\n",
    "        try:\n",
    "            fitness = get_path_length(individual)\n",
    "        except ValueError:\n",
    "            return best  # Stop immediately if step limit hit\n",
    "        population.append(individual)\n",
    "        fitnesses.append(fitness)\n",
    "        if fitness < best_cost:\n",
    "            best = individual\n",
    "            best_cost = fitness\n",
    "\n",
    "    # === Evolution Loop ===\n",
    "    for _ in range(generations):\n",
    "        new_population = []\n",
    "        new_fitnesses = []\n",
    "        for _ in range(population_size):\n",
    "            parent1 = tournament_selection(population, fitnesses)\n",
    "            parent2 = tournament_selection(population, fitnesses)\n",
    "            child = crossover(parent1, parent2)\n",
    "            if random.random() < mutation_rate:\n",
    "                child = mutate(child)\n",
    "            try:\n",
    "                fitness = get_path_length(child)\n",
    "            except ValueError:\n",
    "                return best\n",
    "            new_population.append(child)\n",
    "            new_fitnesses.append(fitness)\n",
    "            if fitness < best_cost:\n",
    "                best = child\n",
    "                best_cost = fitness\n",
    "\n",
    "        population = new_population\n",
    "        fitnesses = new_fitnesses\n",
    "\n",
    "    return best\n"
   ]
  },
  {
   "cell_type": "code",
   "execution_count": null,
   "id": "1c0a7c80-05eb-4b82-af90-ee3a02e35749",
   "metadata": {},
   "outputs": [],
   "source": []
  },
  {
   "cell_type": "code",
   "execution_count": null,
   "id": "a3964e30-3ac9-46c3-b330-65844b066c25",
   "metadata": {},
   "outputs": [],
   "source": []
  }
 ],
 "metadata": {
  "kernelspec": {
   "display_name": "Python 3 (ipykernel)",
   "language": "python",
   "name": "python3"
  },
  "language_info": {
   "codemirror_mode": {
    "name": "ipython",
    "version": 3
   },
   "file_extension": ".py",
   "mimetype": "text/x-python",
   "name": "python",
   "nbconvert_exporter": "python",
   "pygments_lexer": "ipython3",
   "version": "3.10.12"
  }
 },
 "nbformat": 4,
 "nbformat_minor": 5
}
